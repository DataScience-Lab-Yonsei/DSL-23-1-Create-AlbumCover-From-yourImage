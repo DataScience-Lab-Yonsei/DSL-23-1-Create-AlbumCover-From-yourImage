{
  "nbformat": 4,
  "nbformat_minor": 0,
  "metadata": {
    "colab": {
      "provenance": []
    },
    "kernelspec": {
      "name": "python3",
      "display_name": "Python 3"
    },
    "language_info": {
      "name": "python"
    },
    "accelerator": "GPU",
    "gpuClass": "standard",
    "widgets": {
      "application/vnd.jupyter.widget-state+json": {
        "9d1c1d4108bb479bb0dfe1775f7cad71": {
          "model_module": "@jupyter-widgets/controls",
          "model_name": "HBoxModel",
          "model_module_version": "1.5.0",
          "state": {
            "_dom_classes": [],
            "_model_module": "@jupyter-widgets/controls",
            "_model_module_version": "1.5.0",
            "_model_name": "HBoxModel",
            "_view_count": null,
            "_view_module": "@jupyter-widgets/controls",
            "_view_module_version": "1.5.0",
            "_view_name": "HBoxView",
            "box_style": "",
            "children": [
              "IPY_MODEL_f8f581a1ac094072846ce88ace9cc15b",
              "IPY_MODEL_24a01305f99641929cf1cb9d7261cd6a",
              "IPY_MODEL_ac301c58c0504ff6822751a4f23e6ec5"
            ],
            "layout": "IPY_MODEL_04e41ce8e4d247c885d216c37a6a6829"
          }
        },
        "f8f581a1ac094072846ce88ace9cc15b": {
          "model_module": "@jupyter-widgets/controls",
          "model_name": "HTMLModel",
          "model_module_version": "1.5.0",
          "state": {
            "_dom_classes": [],
            "_model_module": "@jupyter-widgets/controls",
            "_model_module_version": "1.5.0",
            "_model_name": "HTMLModel",
            "_view_count": null,
            "_view_module": "@jupyter-widgets/controls",
            "_view_module_version": "1.5.0",
            "_view_name": "HTMLView",
            "description": "",
            "description_tooltip": null,
            "layout": "IPY_MODEL_e4266cb1f65d482e9d612e9a63448bb5",
            "placeholder": "​",
            "style": "IPY_MODEL_9d37b60e27c5438e8eed2156108923d8",
            "value": "100%"
          }
        },
        "24a01305f99641929cf1cb9d7261cd6a": {
          "model_module": "@jupyter-widgets/controls",
          "model_name": "FloatProgressModel",
          "model_module_version": "1.5.0",
          "state": {
            "_dom_classes": [],
            "_model_module": "@jupyter-widgets/controls",
            "_model_module_version": "1.5.0",
            "_model_name": "FloatProgressModel",
            "_view_count": null,
            "_view_module": "@jupyter-widgets/controls",
            "_view_module_version": "1.5.0",
            "_view_name": "ProgressView",
            "bar_style": "success",
            "description": "",
            "description_tooltip": null,
            "layout": "IPY_MODEL_5f81cb36b515493bb8c6a5673b0cb1ef",
            "max": 574673361,
            "min": 0,
            "orientation": "horizontal",
            "style": "IPY_MODEL_af37770a726a4e4cba003f4f93040d40",
            "value": 574673361
          }
        },
        "ac301c58c0504ff6822751a4f23e6ec5": {
          "model_module": "@jupyter-widgets/controls",
          "model_name": "HTMLModel",
          "model_module_version": "1.5.0",
          "state": {
            "_dom_classes": [],
            "_model_module": "@jupyter-widgets/controls",
            "_model_module_version": "1.5.0",
            "_model_name": "HTMLModel",
            "_view_count": null,
            "_view_module": "@jupyter-widgets/controls",
            "_view_module_version": "1.5.0",
            "_view_name": "HTMLView",
            "description": "",
            "description_tooltip": null,
            "layout": "IPY_MODEL_002f812049ab484b83de1e8ddc776398",
            "placeholder": "​",
            "style": "IPY_MODEL_81851e76e60541a7bad200f1b3b6e22c",
            "value": " 548M/548M [00:05&lt;00:00, 107MB/s]"
          }
        },
        "04e41ce8e4d247c885d216c37a6a6829": {
          "model_module": "@jupyter-widgets/base",
          "model_name": "LayoutModel",
          "model_module_version": "1.2.0",
          "state": {
            "_model_module": "@jupyter-widgets/base",
            "_model_module_version": "1.2.0",
            "_model_name": "LayoutModel",
            "_view_count": null,
            "_view_module": "@jupyter-widgets/base",
            "_view_module_version": "1.2.0",
            "_view_name": "LayoutView",
            "align_content": null,
            "align_items": null,
            "align_self": null,
            "border": null,
            "bottom": null,
            "display": null,
            "flex": null,
            "flex_flow": null,
            "grid_area": null,
            "grid_auto_columns": null,
            "grid_auto_flow": null,
            "grid_auto_rows": null,
            "grid_column": null,
            "grid_gap": null,
            "grid_row": null,
            "grid_template_areas": null,
            "grid_template_columns": null,
            "grid_template_rows": null,
            "height": null,
            "justify_content": null,
            "justify_items": null,
            "left": null,
            "margin": null,
            "max_height": null,
            "max_width": null,
            "min_height": null,
            "min_width": null,
            "object_fit": null,
            "object_position": null,
            "order": null,
            "overflow": null,
            "overflow_x": null,
            "overflow_y": null,
            "padding": null,
            "right": null,
            "top": null,
            "visibility": null,
            "width": null
          }
        },
        "e4266cb1f65d482e9d612e9a63448bb5": {
          "model_module": "@jupyter-widgets/base",
          "model_name": "LayoutModel",
          "model_module_version": "1.2.0",
          "state": {
            "_model_module": "@jupyter-widgets/base",
            "_model_module_version": "1.2.0",
            "_model_name": "LayoutModel",
            "_view_count": null,
            "_view_module": "@jupyter-widgets/base",
            "_view_module_version": "1.2.0",
            "_view_name": "LayoutView",
            "align_content": null,
            "align_items": null,
            "align_self": null,
            "border": null,
            "bottom": null,
            "display": null,
            "flex": null,
            "flex_flow": null,
            "grid_area": null,
            "grid_auto_columns": null,
            "grid_auto_flow": null,
            "grid_auto_rows": null,
            "grid_column": null,
            "grid_gap": null,
            "grid_row": null,
            "grid_template_areas": null,
            "grid_template_columns": null,
            "grid_template_rows": null,
            "height": null,
            "justify_content": null,
            "justify_items": null,
            "left": null,
            "margin": null,
            "max_height": null,
            "max_width": null,
            "min_height": null,
            "min_width": null,
            "object_fit": null,
            "object_position": null,
            "order": null,
            "overflow": null,
            "overflow_x": null,
            "overflow_y": null,
            "padding": null,
            "right": null,
            "top": null,
            "visibility": null,
            "width": null
          }
        },
        "9d37b60e27c5438e8eed2156108923d8": {
          "model_module": "@jupyter-widgets/controls",
          "model_name": "DescriptionStyleModel",
          "model_module_version": "1.5.0",
          "state": {
            "_model_module": "@jupyter-widgets/controls",
            "_model_module_version": "1.5.0",
            "_model_name": "DescriptionStyleModel",
            "_view_count": null,
            "_view_module": "@jupyter-widgets/base",
            "_view_module_version": "1.2.0",
            "_view_name": "StyleView",
            "description_width": ""
          }
        },
        "5f81cb36b515493bb8c6a5673b0cb1ef": {
          "model_module": "@jupyter-widgets/base",
          "model_name": "LayoutModel",
          "model_module_version": "1.2.0",
          "state": {
            "_model_module": "@jupyter-widgets/base",
            "_model_module_version": "1.2.0",
            "_model_name": "LayoutModel",
            "_view_count": null,
            "_view_module": "@jupyter-widgets/base",
            "_view_module_version": "1.2.0",
            "_view_name": "LayoutView",
            "align_content": null,
            "align_items": null,
            "align_self": null,
            "border": null,
            "bottom": null,
            "display": null,
            "flex": null,
            "flex_flow": null,
            "grid_area": null,
            "grid_auto_columns": null,
            "grid_auto_flow": null,
            "grid_auto_rows": null,
            "grid_column": null,
            "grid_gap": null,
            "grid_row": null,
            "grid_template_areas": null,
            "grid_template_columns": null,
            "grid_template_rows": null,
            "height": null,
            "justify_content": null,
            "justify_items": null,
            "left": null,
            "margin": null,
            "max_height": null,
            "max_width": null,
            "min_height": null,
            "min_width": null,
            "object_fit": null,
            "object_position": null,
            "order": null,
            "overflow": null,
            "overflow_x": null,
            "overflow_y": null,
            "padding": null,
            "right": null,
            "top": null,
            "visibility": null,
            "width": null
          }
        },
        "af37770a726a4e4cba003f4f93040d40": {
          "model_module": "@jupyter-widgets/controls",
          "model_name": "ProgressStyleModel",
          "model_module_version": "1.5.0",
          "state": {
            "_model_module": "@jupyter-widgets/controls",
            "_model_module_version": "1.5.0",
            "_model_name": "ProgressStyleModel",
            "_view_count": null,
            "_view_module": "@jupyter-widgets/base",
            "_view_module_version": "1.2.0",
            "_view_name": "StyleView",
            "bar_color": null,
            "description_width": ""
          }
        },
        "002f812049ab484b83de1e8ddc776398": {
          "model_module": "@jupyter-widgets/base",
          "model_name": "LayoutModel",
          "model_module_version": "1.2.0",
          "state": {
            "_model_module": "@jupyter-widgets/base",
            "_model_module_version": "1.2.0",
            "_model_name": "LayoutModel",
            "_view_count": null,
            "_view_module": "@jupyter-widgets/base",
            "_view_module_version": "1.2.0",
            "_view_name": "LayoutView",
            "align_content": null,
            "align_items": null,
            "align_self": null,
            "border": null,
            "bottom": null,
            "display": null,
            "flex": null,
            "flex_flow": null,
            "grid_area": null,
            "grid_auto_columns": null,
            "grid_auto_flow": null,
            "grid_auto_rows": null,
            "grid_column": null,
            "grid_gap": null,
            "grid_row": null,
            "grid_template_areas": null,
            "grid_template_columns": null,
            "grid_template_rows": null,
            "height": null,
            "justify_content": null,
            "justify_items": null,
            "left": null,
            "margin": null,
            "max_height": null,
            "max_width": null,
            "min_height": null,
            "min_width": null,
            "object_fit": null,
            "object_position": null,
            "order": null,
            "overflow": null,
            "overflow_x": null,
            "overflow_y": null,
            "padding": null,
            "right": null,
            "top": null,
            "visibility": null,
            "width": null
          }
        },
        "81851e76e60541a7bad200f1b3b6e22c": {
          "model_module": "@jupyter-widgets/controls",
          "model_name": "DescriptionStyleModel",
          "model_module_version": "1.5.0",
          "state": {
            "_model_module": "@jupyter-widgets/controls",
            "_model_module_version": "1.5.0",
            "_model_name": "DescriptionStyleModel",
            "_view_count": null,
            "_view_module": "@jupyter-widgets/base",
            "_view_module_version": "1.2.0",
            "_view_name": "StyleView",
            "description_width": ""
          }
        }
      }
    }
  },
  "cells": [
    {
      "cell_type": "code",
      "execution_count": null,
      "metadata": {
        "colab": {
          "base_uri": "https://localhost:8080/"
        },
        "id": "So4ab6EpmY0H",
        "outputId": "2a19141b-0a3c-4c92-fc34-00e2c2c68f12"
      },
      "outputs": [
        {
          "output_type": "stream",
          "name": "stdout",
          "text": [
            "Looking in indexes: https://pypi.org/simple, https://us-python.pkg.dev/colab-wheels/public/simple/\n",
            "Requirement already satisfied: torch in /usr/local/lib/python3.9/dist-packages (1.13.1+cu116)\n",
            "Requirement already satisfied: torchvision in /usr/local/lib/python3.9/dist-packages (0.14.1+cu116)\n",
            "Requirement already satisfied: typing-extensions in /usr/local/lib/python3.9/dist-packages (from torch) (4.5.0)\n",
            "Requirement already satisfied: numpy in /usr/local/lib/python3.9/dist-packages (from torchvision) (1.22.4)\n",
            "Requirement already satisfied: pillow!=8.3.*,>=5.3.0 in /usr/local/lib/python3.9/dist-packages (from torchvision) (8.4.0)\n",
            "Requirement already satisfied: requests in /usr/local/lib/python3.9/dist-packages (from torchvision) (2.27.1)\n",
            "Requirement already satisfied: idna<4,>=2.5 in /usr/local/lib/python3.9/dist-packages (from requests->torchvision) (3.4)\n",
            "Requirement already satisfied: charset-normalizer~=2.0.0 in /usr/local/lib/python3.9/dist-packages (from requests->torchvision) (2.0.12)\n",
            "Requirement already satisfied: certifi>=2017.4.17 in /usr/local/lib/python3.9/dist-packages (from requests->torchvision) (2022.12.7)\n",
            "Requirement already satisfied: urllib3<1.27,>=1.21.1 in /usr/local/lib/python3.9/dist-packages (from requests->torchvision) (1.26.15)\n",
            "Looking in indexes: https://pypi.org/simple, https://us-python.pkg.dev/colab-wheels/public/simple/\n",
            "Collecting Pillow==4.1.1\n",
            "  Downloading Pillow-4.1.1.tar.gz (11.3 MB)\n",
            "\u001b[2K     \u001b[90m━━━━━━━━━━━━━━━━━━━━━━━━━━━━━━━━━━━━━━━━\u001b[0m \u001b[32m11.3/11.3 MB\u001b[0m \u001b[31m94.5 MB/s\u001b[0m eta \u001b[36m0:00:00\u001b[0m\n",
            "\u001b[?25h  Preparing metadata (setup.py) ... \u001b[?25l\u001b[?25hdone\n",
            "Collecting olefile\n",
            "  Downloading olefile-0.46.zip (112 kB)\n",
            "\u001b[2K     \u001b[90m━━━━━━━━━━━━━━━━━━━━━━━━━━━━━━━━━━━━━━\u001b[0m \u001b[32m112.2/112.2 KB\u001b[0m \u001b[31m15.8 MB/s\u001b[0m eta \u001b[36m0:00:00\u001b[0m\n",
            "\u001b[?25h  Preparing metadata (setup.py) ... \u001b[?25l\u001b[?25hdone\n",
            "Building wheels for collected packages: Pillow, olefile\n",
            "  Building wheel for Pillow (setup.py) ... \u001b[?25l\u001b[?25hdone\n",
            "  Created wheel for Pillow: filename=Pillow-4.1.1-cp39-cp39-linux_x86_64.whl size=1079484 sha256=de52e71c81a656fd7bb56233c83b52c728c6d45c7da0ea1a6f57b8a21e6446c9\n",
            "  Stored in directory: /root/.cache/pip/wheels/2c/eb/0e/13ca6f7d7c9b914ee449007ce3bf93c01b5d5433d7ac23606a\n",
            "  Building wheel for olefile (setup.py) ... \u001b[?25l\u001b[?25hdone\n",
            "  Created wheel for olefile: filename=olefile-0.46-py2.py3-none-any.whl size=35432 sha256=ca474b3b2b06074750f14d091cde867cd07ea6801b0757f00df32a3608b8f795\n",
            "  Stored in directory: /root/.cache/pip/wheels/64/b8/ba/ebba30390fbd997074f35e42a842ce3fd933213cac8753414e\n",
            "Successfully built Pillow olefile\n",
            "Installing collected packages: olefile, Pillow\n",
            "  Attempting uninstall: Pillow\n",
            "    Found existing installation: Pillow 8.4.0\n",
            "    Uninstalling Pillow-8.4.0:\n",
            "      Successfully uninstalled Pillow-8.4.0\n",
            "\u001b[31mERROR: pip's dependency resolver does not currently take into account all the packages that are installed. This behaviour is the source of the following dependency conflicts.\n",
            "torchvision 0.14.1+cu116 requires pillow!=8.3.*,>=5.3.0, but you have pillow 4.1.1 which is incompatible.\n",
            "scikit-image 0.19.3 requires pillow!=7.1.0,!=7.1.1,!=8.3.0,>=6.1.0, but you have pillow 4.1.1 which is incompatible.\n",
            "matplotlib 3.7.1 requires pillow>=6.2.0, but you have pillow 4.1.1 which is incompatible.\n",
            "imageio 2.25.1 requires pillow>=8.3.2, but you have pillow 4.1.1 which is incompatible.\n",
            "fastai 2.7.11 requires pillow>6.0.0, but you have pillow 4.1.1 which is incompatible.\n",
            "dopamine-rl 4.0.6 requires Pillow>=7.0.0, but you have pillow 4.1.1 which is incompatible.\n",
            "bokeh 2.4.3 requires pillow>=7.1.0, but you have pillow 4.1.1 which is incompatible.\u001b[0m\u001b[31m\n",
            "\u001b[0mSuccessfully installed Pillow-4.1.1 olefile-0.46\n",
            "Looking in indexes: https://pypi.org/simple, https://us-python.pkg.dev/colab-wheels/public/simple/\n",
            "Collecting image\n",
            "  Downloading image-1.5.33.tar.gz (15 kB)\n",
            "  Preparing metadata (setup.py) ... \u001b[?25l\u001b[?25hdone\n",
            "Requirement already satisfied: pillow in /usr/local/lib/python3.9/dist-packages (from image) (4.1.1)\n",
            "Collecting django\n",
            "  Downloading Django-4.1.7-py3-none-any.whl (8.1 MB)\n",
            "\u001b[2K     \u001b[90m━━━━━━━━━━━━━━━━━━━━━━━━━━━━━━━━━━━━━━━━\u001b[0m \u001b[32m8.1/8.1 MB\u001b[0m \u001b[31m98.2 MB/s\u001b[0m eta \u001b[36m0:00:00\u001b[0m\n",
            "\u001b[?25hRequirement already satisfied: six in /usr/local/lib/python3.9/dist-packages (from image) (1.16.0)\n",
            "Collecting asgiref<4,>=3.5.2\n",
            "  Downloading asgiref-3.6.0-py3-none-any.whl (23 kB)\n",
            "Requirement already satisfied: sqlparse>=0.2.2 in /usr/local/lib/python3.9/dist-packages (from django->image) (0.4.3)\n",
            "Requirement already satisfied: olefile in /usr/local/lib/python3.9/dist-packages (from pillow->image) (0.46)\n",
            "Building wheels for collected packages: image\n",
            "  Building wheel for image (setup.py) ... \u001b[?25l\u001b[?25hdone\n",
            "  Created wheel for image: filename=image-1.5.33-py2.py3-none-any.whl size=19497 sha256=859887ddfbc6fe701c803fbee50a9878e8268ee5a1148a30baa0e985a60504a1\n",
            "  Stored in directory: /root/.cache/pip/wheels/14/4c/7c/d9b5c35a149d3bc8c72c7e92372913ff7dac9c6bd94bd1b8c9\n",
            "Successfully built image\n",
            "Installing collected packages: asgiref, django, image\n",
            "Successfully installed asgiref-3.6.0 django-4.1.7 image-1.5.33\n"
          ]
        }
      ],
      "source": [
        "!pip install torch torchvision\n",
        "!pip install Pillow==4.1.1\n",
        "!pip install image"
      ]
    },
    {
      "cell_type": "code",
      "source": [
        "!pip install torchvision"
      ],
      "metadata": {
        "colab": {
          "base_uri": "https://localhost:8080/"
        },
        "id": "SkmAEaXkoDXn",
        "outputId": "378bad6a-8b83-410b-d23f-e23f90feddab"
      },
      "execution_count": null,
      "outputs": [
        {
          "output_type": "stream",
          "name": "stdout",
          "text": [
            "Looking in indexes: https://pypi.org/simple, https://us-python.pkg.dev/colab-wheels/public/simple/\n",
            "Requirement already satisfied: torchvision in /usr/local/lib/python3.9/dist-packages (0.14.1+cu116)\n",
            "Requirement already satisfied: pillow!=8.3.*,>=5.3.0 in /usr/local/lib/python3.9/dist-packages (from torchvision) (8.4.0)\n",
            "Requirement already satisfied: requests in /usr/local/lib/python3.9/dist-packages (from torchvision) (2.27.1)\n",
            "Requirement already satisfied: typing-extensions in /usr/local/lib/python3.9/dist-packages (from torchvision) (4.5.0)\n",
            "Requirement already satisfied: torch==1.13.1 in /usr/local/lib/python3.9/dist-packages (from torchvision) (1.13.1+cu116)\n",
            "Requirement already satisfied: numpy in /usr/local/lib/python3.9/dist-packages (from torchvision) (1.22.4)\n",
            "Requirement already satisfied: charset-normalizer~=2.0.0 in /usr/local/lib/python3.9/dist-packages (from requests->torchvision) (2.0.12)\n",
            "Requirement already satisfied: idna<4,>=2.5 in /usr/local/lib/python3.9/dist-packages (from requests->torchvision) (3.4)\n",
            "Requirement already satisfied: urllib3<1.27,>=1.21.1 in /usr/local/lib/python3.9/dist-packages (from requests->torchvision) (1.26.15)\n",
            "Requirement already satisfied: certifi>=2017.4.17 in /usr/local/lib/python3.9/dist-packages (from requests->torchvision) (2022.12.7)\n"
          ]
        }
      ]
    },
    {
      "cell_type": "code",
      "source": [
        "from google.colab import drive\n",
        "drive.mount('/content/drive')"
      ],
      "metadata": {
        "colab": {
          "base_uri": "https://localhost:8080/"
        },
        "id": "fIW8SJAtme-n",
        "outputId": "a6a8f892-6f3f-4050-fb63-d48119bd152f"
      },
      "execution_count": null,
      "outputs": [
        {
          "output_type": "stream",
          "name": "stdout",
          "text": [
            "Mounted at /content/drive\n"
          ]
        }
      ]
    },
    {
      "cell_type": "code",
      "source": [
        "from PIL import Image\n",
        "import matplotlib.pyplot as plt\n",
        "\n",
        "import torchvision.transforms as transforms\n",
        "import torch\n",
        "import torch.nn as nn\n",
        "import torch.optim as optim\n",
        "import torchvision.models as models\n",
        "import torchvision.utils as utils"
      ],
      "metadata": {
        "id": "-7L2hEIynNTI"
      },
      "execution_count": null,
      "outputs": []
    },
    {
      "cell_type": "code",
      "source": [
        "device = torch.device(\"cuda\" if torch.cuda.is_available() else \"cpu\")\n",
        "device"
      ],
      "metadata": {
        "colab": {
          "base_uri": "https://localhost:8080/"
        },
        "id": "aDF1xL6UpNcv",
        "outputId": "0b6eb8c4-a93a-44ab-cee8-a509730d28fa"
      },
      "execution_count": null,
      "outputs": [
        {
          "output_type": "execute_result",
          "data": {
            "text/plain": [
              "device(type='cuda')"
            ]
          },
          "metadata": {},
          "execution_count": 4
        }
      ]
    },
    {
      "cell_type": "code",
      "source": [
        "def load_image(image_path, transform=None, max_size=None, shape=None):\n",
        "    image = Image.open(image_path)\n",
        "    \n",
        "    if max_size is not None:\n",
        "        # Resize the image to the specified maximum size\n",
        "        width, height = image.size\n",
        "        if width > height:\n",
        "            new_width = max_size\n",
        "            new_height = int(max_size * height / width)\n",
        "        else:\n",
        "            new_height = max_size\n",
        "            new_width = int(max_size * width / height)\n",
        "        image = image.resize((new_width, new_height), Image.ANTIALIAS)\n",
        "    \n",
        "    if shape is not None:\n",
        "        # Resize the image to the specified shape\n",
        "        image = image.resize(shape, Image.LANCZOS)\n",
        "    \n",
        "    if transform is not None:\n",
        "        # Apply the specified transform to the image\n",
        "        image = transform(image).unsqueeze(0)\n",
        "    \n",
        "    return image.to(device)"
      ],
      "metadata": {
        "id": "ZsJtN8stxxHP"
      },
      "execution_count": null,
      "outputs": []
    },
    {
      "cell_type": "code",
      "source": [
        "def gram_matrix(input_tensor):\n",
        "    batch_size, channels, height, width = input_tensor.size()\n",
        "    features = input_tensor.view(batch_size * channels, height * width)\n",
        "    gram = torch.mm(features, features.t())\n",
        "    return gram.div(batch_size * channels * height * width)"
      ],
      "metadata": {
        "id": "9Zkk-RNhx1Xj"
      },
      "execution_count": null,
      "outputs": []
    },
    {
      "cell_type": "code",
      "source": [
        "content_img = Image.open('path_for_input_image_file.jpg')\n",
        "style_img = Image.open('path_for_album_image_file.jpg')"
      ],
      "metadata": {
        "id": "nmEYfySDnlj2"
      },
      "execution_count": null,
      "outputs": []
    },
    {
      "cell_type": "code",
      "source": [
        "content_path = 'path_for_input_image_file.jpg'\n",
        "style_path = 'path_for_album_image_file.jpg'"
      ],
      "metadata": {
        "id": "UCkyc11Ds6ZB"
      },
      "execution_count": null,
      "outputs": []
    },
    {
      "cell_type": "code",
      "source": [
        "transform = transforms.Compose([\n",
        "    transforms.Resize(512),\n",
        "    transforms.ToTensor(),\n",
        "    transforms.Normalize(mean=[0.485, 0.456, 0.406],\n",
        "                         std=[0.229, 0.224, 0.225])])\n",
        "\n",
        "content_img = transform(content_img)\n",
        "style_img = transform(style_img)"
      ],
      "metadata": {
        "id": "O1c1cUz-o1kq"
      },
      "execution_count": null,
      "outputs": []
    },
    {
      "cell_type": "code",
      "source": [
        "print(content_img.shape)"
      ],
      "metadata": {
        "colab": {
          "base_uri": "https://localhost:8080/"
        },
        "id": "mJBdDP0UuKtQ",
        "outputId": "3691a91d-bb1b-49a8-b9fe-2b377fd3050c"
      },
      "execution_count": null,
      "outputs": [
        {
          "output_type": "stream",
          "name": "stdout",
          "text": [
            "torch.Size([3, 512, 528])\n"
          ]
        }
      ]
    },
    {
      "cell_type": "code",
      "source": [
        "input_img = content_img.clone()\n",
        "batch_size = 1\n",
        "content_img = content_img.repeat(batch_size, 1, 1).to(device)\n",
        "style_img = style_img.repeat(batch_size, 1, 1).to(device)\n",
        "input_img = input_img.repeat(batch_size, 1, 1).to(device)"
      ],
      "metadata": {
        "id": "VRKpqhlvsx12"
      },
      "execution_count": null,
      "outputs": []
    },
    {
      "cell_type": "code",
      "source": [
        "cnn = models.vgg19(pretrained=True).features.to(device).eval()"
      ],
      "metadata": {
        "id": "7N_zXjPko5DO",
        "colab": {
          "base_uri": "https://localhost:8080/",
          "height": 162,
          "referenced_widgets": [
            "9d1c1d4108bb479bb0dfe1775f7cad71",
            "f8f581a1ac094072846ce88ace9cc15b",
            "24a01305f99641929cf1cb9d7261cd6a",
            "ac301c58c0504ff6822751a4f23e6ec5",
            "04e41ce8e4d247c885d216c37a6a6829",
            "e4266cb1f65d482e9d612e9a63448bb5",
            "9d37b60e27c5438e8eed2156108923d8",
            "5f81cb36b515493bb8c6a5673b0cb1ef",
            "af37770a726a4e4cba003f4f93040d40",
            "002f812049ab484b83de1e8ddc776398",
            "81851e76e60541a7bad200f1b3b6e22c"
          ]
        },
        "outputId": "43ffa16b-3381-4b90-a899-5b5d9aeb95ec"
      },
      "execution_count": null,
      "outputs": [
        {
          "output_type": "stream",
          "name": "stderr",
          "text": [
            "/usr/local/lib/python3.9/dist-packages/torchvision/models/_utils.py:208: UserWarning: The parameter 'pretrained' is deprecated since 0.13 and may be removed in the future, please use 'weights' instead.\n",
            "  warnings.warn(\n",
            "/usr/local/lib/python3.9/dist-packages/torchvision/models/_utils.py:223: UserWarning: Arguments other than a weight enum or `None` for 'weights' are deprecated since 0.13 and may be removed in the future. The current behavior is equivalent to passing `weights=VGG19_Weights.IMAGENET1K_V1`. You can also use `weights=VGG19_Weights.DEFAULT` to get the most up-to-date weights.\n",
            "  warnings.warn(msg)\n",
            "Downloading: \"https://download.pytorch.org/models/vgg19-dcbb9e9d.pth\" to /root/.cache/torch/hub/checkpoints/vgg19-dcbb9e9d.pth\n"
          ]
        },
        {
          "output_type": "display_data",
          "data": {
            "text/plain": [
              "  0%|          | 0.00/548M [00:00<?, ?B/s]"
            ],
            "application/vnd.jupyter.widget-view+json": {
              "version_major": 2,
              "version_minor": 0,
              "model_id": "9d1c1d4108bb479bb0dfe1775f7cad71"
            }
          },
          "metadata": {}
        }
      ]
    },
    {
      "cell_type": "code",
      "source": [
        "def get_features(image, model, layers=None):\n",
        "    if layers is None:\n",
        "        layers = {'0': 'conv1_1',\n",
        "                  '5': 'conv2_1',\n",
        "                  '10': 'conv3_1',\n",
        "                  '19': 'conv4_1',\n",
        "                  '21': 'conv4_2',  # content layer\n",
        "                  '28': 'conv5_1'}\n",
        "    features = {}\n",
        "    x = image.unsqueeze(0)\n",
        "    for name, layer in model._modules.items():\n",
        "        x = layer(x)\n",
        "        if name in layers:\n",
        "            features[layers[name]] = x\n",
        "    return features"
      ],
      "metadata": {
        "id": "iZzbmHSjo-9g"
      },
      "execution_count": null,
      "outputs": []
    },
    {
      "cell_type": "code",
      "source": [
        "content_img = content_img.to(device)\n",
        "style_img = style_img.to(device)"
      ],
      "metadata": {
        "id": "j8-B3hHkpaSx"
      },
      "execution_count": null,
      "outputs": []
    },
    {
      "cell_type": "code",
      "source": [
        "content_features = get_features(content_img.squeeze(0), cnn)\n",
        "style_features = get_features(style_img.squeeze(0), cnn)"
      ],
      "metadata": {
        "id": "-IRH0ByRpdfm"
      },
      "execution_count": null,
      "outputs": []
    },
    {
      "cell_type": "code",
      "source": [
        "def gram_matrix(tensor):\n",
        "    _, c, h, w = tensor.size()\n",
        "    tensor = tensor"
      ],
      "metadata": {
        "id": "Lb-p_TzPp40W"
      },
      "execution_count": null,
      "outputs": []
    },
    {
      "cell_type": "code",
      "source": [
        "def gram_matrix(tensor):\n",
        "    _, c, h, w = tensor.size()\n",
        "    tensor = tensor.view(c, h * w)\n",
        "    gram = torch.mm(tensor, tensor.t())\n",
        "    return gram"
      ],
      "metadata": {
        "id": "hKbLDF7fp9Jt"
      },
      "execution_count": null,
      "outputs": []
    },
    {
      "cell_type": "code",
      "source": [
        "content_weight = 10  # alpha\n",
        "style_weight = 100  # beta"
      ],
      "metadata": {
        "id": "KLojjS7rp_Wo"
      },
      "execution_count": null,
      "outputs": []
    },
    {
      "cell_type": "code",
      "source": [
        "input_img = content_img.clone().requires_grad_(True)"
      ],
      "metadata": {
        "id": "T_RSatnaqCqo"
      },
      "execution_count": null,
      "outputs": []
    },
    {
      "cell_type": "code",
      "source": [
        "optimizer = torch.optim.Adam([input_img], lr=0.01)\n",
        "mse_loss = torch.nn.MSELoss()"
      ],
      "metadata": {
        "id": "9jV7LivcqEKN"
      },
      "execution_count": null,
      "outputs": []
    },
    {
      "cell_type": "code",
      "source": [
        "num_steps = 2000\n",
        "style_layers = ['conv1_1', 'conv2_1', 'conv3_1', 'conv4_1', 'conv5_1']\n",
        "\n",
        "# Run the style transfer algorithm\n",
        "for i in range(num_steps):\n",
        "    input_features = get_features(input_img, cnn)\n",
        "    \n",
        "    content_loss = mse_loss(input_features['conv4_2'], content_features['conv4_2'])\n",
        "    \n",
        "    style_loss = 0\n",
        "    for layer in style_layers:\n",
        "        input_feature = input_features[layer]\n",
        "        _, c, h, w = input_feature.size()\n",
        "        input_gram = gram_matrix(input_feature)\n",
        "        style_gram = gram_matrix(style_features[layer])\n",
        "        layer_loss = mse_loss(input_gram, style_gram)\n",
        "        style_loss += layer_loss / (c * h * w)\n",
        "    style_loss *= style_weight\n",
        "    \n",
        "    total_loss = content_weight * content_loss + style_loss\n",
        "    \n",
        "    optimizer.zero_grad()\n",
        "    total_loss.backward(retain_graph=True)\n",
        "    optimizer.step()\n",
        "    \n",
        "    if i % 100 == 0:\n",
        "        print(f'Step {i}: total loss = {total_loss.item()}')\n",
        "        output_img = input_img.clone().detach().cpu()\n",
        "        output_img = output_img.squeeze(0)\n",
        "        utils.save_image(output_img, f'path_for_save_output_image_file/output_{i}.jpg')"
      ],
      "metadata": {
        "colab": {
          "base_uri": "https://localhost:8080/"
        },
        "id": "qvMn4ZbErGR3",
        "outputId": "4aaff57d-f88b-4a76-9a9f-4a0aa1eda75e"
      },
      "execution_count": null,
      "outputs": [
        {
          "output_type": "stream",
          "name": "stdout",
          "text": [
            "Step 0: total loss = 13181.6484375\n",
            "Step 100: total loss = 1833.1669921875\n",
            "Step 200: total loss = 831.111572265625\n",
            "Step 300: total loss = 499.0368957519531\n",
            "Step 400: total loss = 354.6078796386719\n",
            "Step 500: total loss = 279.9184265136719\n",
            "Step 600: total loss = 235.51864624023438\n",
            "Step 700: total loss = 206.00778198242188\n",
            "Step 800: total loss = 185.20301818847656\n",
            "Step 900: total loss = 169.9143524169922\n",
            "Step 1000: total loss = 158.39682006835938\n",
            "Step 1100: total loss = 149.52151489257812\n",
            "Step 1200: total loss = 397.13720703125\n",
            "Step 1300: total loss = 141.52151489257812\n",
            "Step 1400: total loss = 128.7421875\n",
            "Step 1500: total loss = 123.49275970458984\n",
            "Step 1600: total loss = 119.45243835449219\n",
            "Step 1700: total loss = 115.99407196044922\n",
            "Step 1800: total loss = 113.03407287597656\n",
            "Step 1900: total loss = 110.35930633544922\n"
          ]
        }
      ]
    },
    {
      "cell_type": "code",
      "source": [],
      "metadata": {
        "id": "9hva4lZhASb3"
      },
      "execution_count": null,
      "outputs": []
    }
  ]
}